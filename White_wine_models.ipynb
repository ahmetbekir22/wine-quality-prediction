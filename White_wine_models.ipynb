{
  "nbformat": 4,
  "nbformat_minor": 0,
  "metadata": {
    "colab": {
      "provenance": [],
      "authorship_tag": "ABX9TyOcN7trSNzGzIsbh6/nqEvy",
      "include_colab_link": true
    },
    "kernelspec": {
      "name": "python3",
      "display_name": "Python 3"
    },
    "language_info": {
      "name": "python"
    }
  },
  "cells": [
    {
      "cell_type": "markdown",
      "metadata": {
        "id": "view-in-github",
        "colab_type": "text"
      },
      "source": [
        "<a href=\"https://colab.research.google.com/github/ahmetbekir22/wine-quality-prediction/blob/main/White_wine_models.ipynb\" target=\"_parent\"><img src=\"https://colab.research.google.com/assets/colab-badge.svg\" alt=\"Open In Colab\"/></a>"
      ]
    },
    {
      "cell_type": "code",
      "source": [
        "# Gerekli kütüphaneleri import edelim\n",
        "from sklearn.model_selection import GridSearchCV\n",
        "from sklearn.ensemble import RandomForestRegressor\n",
        "from sklearn.preprocessing import StandardScaler\n",
        "from sklearn.model_selection import train_test_split\n",
        "from sklearn.metrics import mean_squared_error, r2_score\n",
        "import joblib\n",
        "\n",
        "# Veriyi yükleyin ve hedef ile özellikleri ayırın\n",
        "wine_data = pd.read_csv('/content/winequality-white.csv', sep=';')\n",
        "X = wine_data.drop('quality', axis=1)\n",
        "y = wine_data['quality']\n",
        "\n",
        "# Veriyi eğitim ve test setlerine ayıralım\n",
        "X_train, X_test, y_train, y_test = train_test_split(X, y, test_size=0.2, random_state=42)\n",
        "\n",
        "# Özellikleri standardize edelim\n",
        "scaler = StandardScaler()\n",
        "X_train_scaled = scaler.fit_transform(X_train)\n",
        "X_test_scaled = scaler.transform(X_test)\n",
        "\n",
        "# Random Forest modeli tanımlayalım\n",
        "rf_model = RandomForestRegressor(random_state=42)\n",
        "\n",
        "# GridSearchCV için parametreler\n",
        "param_grid = {\n",
        "    'n_estimators': [100, 200, 300],\n",
        "    'max_depth': [None, 10, 20, 30],\n",
        "    'min_samples_split': [2, 5, 10],\n",
        "    'min_samples_leaf': [1, 2, 4],\n",
        "}\n",
        "\n",
        "# GridSearchCV ile modelin hyperparametrelerini optimize edelim\n",
        "grid_search = GridSearchCV(estimator=rf_model, param_grid=param_grid, cv=5, n_jobs=-1, verbose=2)\n",
        "grid_search.fit(X_train_scaled, y_train)\n",
        "\n",
        "# En iyi parametreleri ve modelin performansını yazdıralım\n",
        "print(\"Best Parameters:\", grid_search.best_params_)\n",
        "\n",
        "best_rf_model = grid_search.best_estimator_\n",
        "\n",
        "# Modeli kaydedelim\n",
        "joblib.dump(best_rf_model, 'best_random_forest_model.pkl')\n",
        "joblib.dump(scaler, 'scaler.pkl')  # StandardScaler'ı kaydedelim\n",
        "\n",
        "# Test seti üzerinde tahmin yapalım\n",
        "y_pred = best_rf_model.predict(X_test_scaled)\n",
        "\n",
        "# Modelin performansını değerlendirelim\n",
        "mse = mean_squared_error(y_test, y_pred)\n",
        "r2 = r2_score(y_test, y_pred)\n",
        "\n",
        "# Accuracy score hesaplayalım\n",
        "accuracy = (abs(y_pred - y_test) < 1).mean()  # Tahminin hedef değere yakın olmasını kontrol et\n",
        "\n",
        "# Sonuçları yazdıralım\n",
        "print(\"Mean Squared Error (MSE):\", mse)\n",
        "print(\"R2 Score:\", r2)\n",
        "print(\"Accuracy Score:\", accuracy)\n"
      ],
      "metadata": {
        "colab": {
          "base_uri": "https://localhost:8080/"
        },
        "id": "1R7L4EJH1rOA",
        "outputId": "8c700412-1c88-45d4-b849-5bcab40d7c23"
      },
      "execution_count": 12,
      "outputs": [
        {
          "output_type": "stream",
          "name": "stdout",
          "text": [
            "Fitting 5 folds for each of 108 candidates, totalling 540 fits\n",
            "Best Parameters: {'max_depth': 30, 'min_samples_leaf': 1, 'min_samples_split': 2, 'n_estimators': 300}\n",
            "Mean Squared Error (MSE): 0.36291715558661874\n",
            "R2 Score: 0.5696678225935584\n",
            "Accuracy Score: 0.9003051881993896\n"
          ]
        }
      ]
    },
    {
      "cell_type": "code",
      "source": [
        "from sklearn.model_selection import cross_val_score\n",
        "\n",
        "# Random Forest modeline 5-fold cross-validation uygulayalım\n",
        "cv_scores = cross_val_score(best_rf_model, X_train_scaled, y_train, cv=5, scoring='neg_mean_squared_error')\n",
        "\n",
        "# Ortalama MSE hesaplayalım\n",
        "mean_cv_score = -cv_scores.mean()  # Çünkü cross_val_score negatif değer döndürüyor\n",
        "print(\"Average Cross-Validation MSE:\", mean_cv_score)\n"
      ],
      "metadata": {
        "colab": {
          "base_uri": "https://localhost:8080/"
        },
        "id": "bBwFsmt11rQ6",
        "outputId": "c3454b6a-4791-493d-dcea-362a9fe0b5b7"
      },
      "execution_count": 13,
      "outputs": [
        {
          "output_type": "stream",
          "name": "stdout",
          "text": [
            "Average Cross-Validation MSE: 0.3948619221550579\n"
          ]
        }
      ]
    },
    {
      "cell_type": "code",
      "source": [
        "from xgboost import XGBRegressor\n",
        "\n",
        "# XGBoost modelini tanımlayalım\n",
        "xgb_model = XGBRegressor(n_estimators=100, random_state=42)\n",
        "\n",
        "# Modeli eğitelim\n",
        "xgb_model.fit(X_train_scaled, y_train)\n",
        "\n",
        "# Test seti üzerinde tahmin yapalım\n",
        "y_pred_xgb = xgb_model.predict(X_test_scaled)\n",
        "\n",
        "# Modelin performansını değerlendirelim\n",
        "mse_xgb = mean_squared_error(y_test, y_pred_xgb)\n",
        "r2_xgb = r2_score(y_test, y_pred_xgb)\n",
        "\n",
        "# Accuracy score hesaplayalım\n",
        "accuracy_xgb = (abs(y_pred_xgb - y_test) < 1).mean()  # Tahminin hedef değere yakın olmasını kontrol et\n",
        "\n",
        "# Sonuçları yazdıralım\n",
        "print(\"XGBoost Mean Squared Error (MSE):\", mse_xgb)\n",
        "print(\"XGBoost R2 Score:\", r2_xgb)\n",
        "print(\"XGBoost Accuracy Score:\", accuracy_xgb)\n"
      ],
      "metadata": {
        "colab": {
          "base_uri": "https://localhost:8080/"
        },
        "id": "WwaVnpQM73QW",
        "outputId": "37f55735-4624-49a6-b2bc-77bd90426b66"
      },
      "execution_count": 14,
      "outputs": [
        {
          "output_type": "stream",
          "name": "stdout",
          "text": [
            "XGBoost Mean Squared Error (MSE): 0.37960300110465317\n",
            "XGBoost R2 Score: 0.5498824119567871\n",
            "XGBoost Accuracy Score: 0.8952187182095626\n"
          ]
        }
      ]
    }
  ]
}